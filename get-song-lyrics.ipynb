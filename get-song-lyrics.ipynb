{
 "cells": [
  {
   "cell_type": "code",
   "execution_count": null,
   "metadata": {},
   "outputs": [],
   "source": [
    "# This was a quick test to see if I could scrape the lyrics using a speech recognition library\n",
    "# It picked up some words correctly, but not well enough to use."
   ]
  },
  {
   "cell_type": "code",
   "execution_count": 30,
   "metadata": {},
   "outputs": [],
   "source": [
    "import os\n",
    "import speech_recognition as sr"
   ]
  },
  {
   "cell_type": "code",
   "execution_count": 31,
   "metadata": {},
   "outputs": [
    {
     "name": "stderr",
     "output_type": "stream",
     "text": [
      "ffmpeg version 5.1.2 Copyright (c) 2000-2022 the FFmpeg developers\n",
      "  built with Apple clang version 14.0.0 (clang-1400.0.29.202)\n",
      "  configuration: --prefix=/opt/homebrew/Cellar/ffmpeg/5.1.2_3 --enable-shared --enable-pthreads --enable-version3 --cc=clang --host-cflags= --host-ldflags= --enable-ffplay --enable-gnutls --enable-gpl --enable-libaom --enable-libaribb24 --enable-libbluray --enable-libdav1d --enable-libmp3lame --enable-libopus --enable-librav1e --enable-librist --enable-librubberband --enable-libsnappy --enable-libsrt --enable-libsvtav1 --enable-libtesseract --enable-libtheora --enable-libvidstab --enable-libvmaf --enable-libvorbis --enable-libvpx --enable-libwebp --enable-libx264 --enable-libx265 --enable-libxml2 --enable-libxvid --enable-lzma --enable-libfontconfig --enable-libfreetype --enable-frei0r --enable-libass --enable-libopencore-amrnb --enable-libopencore-amrwb --enable-libopenjpeg --enable-libspeex --enable-libsoxr --enable-libzmq --enable-libzimg --disable-libjack --disable-indev=jack --enable-videotoolbox --enable-neon\n",
      "  libavutil      57. 28.100 / 57. 28.100\n",
      "  libavcodec     59. 37.100 / 59. 37.100\n",
      "  libavformat    59. 27.100 / 59. 27.100\n",
      "  libavdevice    59.  7.100 / 59.  7.100\n",
      "  libavfilter     8. 44.100 /  8. 44.100\n",
      "  libswscale      6.  7.100 /  6.  7.100\n",
      "  libswresample   4.  7.100 /  4.  7.100\n",
      "  libpostproc    56.  6.100 / 56.  6.100\n",
      "[mp3 @ 0x13ae332e0] Estimating duration from bitrate, this may be inaccurate\n",
      "Input #0, mp3, from '/Users/stevenbenner/Google Drive/My Drive/Media/Dad Songs/_Original Recordings/Brad Benner Originals - Album 01/01 Get Out Of My Car.mp3':\n",
      "  Metadata:\n",
      "    artist          : Brad Benner\n",
      "    TCM             : Brad Benner\n",
      "    track           : 1/7\n",
      "    album           : Brad Benner Originals - Album 01\n",
      "    iTunPGAP        : 0\n",
      "    encoded_by      : iTunes 12.11.3.17\n",
      "    iTunNORM        :  00000148 00000057 00000DB1 0000053C 000192DB 00024B72 00007589 000030EA 00018DA7 000124DB\n",
      "    iTunSMPB        :  00000000 00000210 00000B64 000000000075948C 00000000 003FF0FB 00000000 00000000 00000000 00000000 00000000 00000000\n",
      "    iTunes_CDDB_1   : 49067807+124356+7+150+13255+32003+48521+65744+90066+105040\n",
      "    iTunes_CDDB_TrackNumber: 1\n",
      "    title           : Get Out Of My Car\n",
      "    date            : 2016\n",
      "  Duration: 00:02:54.81, start: 0.000000, bitrate: 192 kb/s\n",
      "  Stream #0:0: Audio: mp3, 44100 Hz, stereo, fltp, 192 kb/s\n",
      "File './songs_wav/Get Out Of My Car.wav' already exists. Overwrite? [y/N] Not overwriting - exiting\n"
     ]
    },
    {
     "data": {
      "text/plain": [
       "256"
      ]
     },
     "execution_count": 31,
     "metadata": {},
     "output_type": "execute_result"
    }
   ],
   "source": [
    "songs_base_path = '/Users/stevenbenner/Google Drive/My Drive/Media/Dad Songs/_Original Recordings/'\n",
    "song_path = 'Brad Benner Originals - Album 01/01 Get Out Of My Car.mp3'\n",
    "song_name = 'Get Out Of My Car'\n",
    "song_mp3_fqdn = os.path.join(songs_base_path, song_path)\n",
    "song_wav_fqdn = os.path.join('./songs_wav/', song_name + \".wav\")\n",
    "\n",
    "command2wav = 'ffmpeg -i \"' + song_mp3_fqdn + '\" \"' + song_wav_fqdn + '\"'\n",
    "\n",
    "os.system(command2wav)\n"
   ]
  },
  {
   "cell_type": "code",
   "execution_count": 39,
   "metadata": {},
   "outputs": [],
   "source": [
    "\n",
    "r = sr.Recognizer()\n",
    "audio = sr.AudioFile(song_wav_fqdn)"
   ]
  },
  {
   "cell_type": "code",
   "execution_count": null,
   "metadata": {},
   "outputs": [],
   "source": [
    "with audio as source:\n",
    "    r.adjust_for_ambient_noise(source) # try removing ambient noise\n",
    "    audio = r.record(source)\n",
    "    output = r.recognize_google(audio)"
   ]
  },
  {
   "cell_type": "code",
   "execution_count": 41,
   "metadata": {},
   "outputs": [],
   "source": [
    "with open('readme.txt', 'w') as f:\n",
    "    f.write(output)"
   ]
  }
 ],
 "metadata": {
  "kernelspec": {
   "display_name": "Python 3",
   "language": "python",
   "name": "python3"
  },
  "language_info": {
   "codemirror_mode": {
    "name": "ipython",
    "version": 3
   },
   "file_extension": ".py",
   "mimetype": "text/x-python",
   "name": "python",
   "nbconvert_exporter": "python",
   "pygments_lexer": "ipython3",
   "version": "3.10.9 (main, Dec 15 2022, 17:11:09) [Clang 14.0.0 (clang-1400.0.29.202)]"
  },
  "orig_nbformat": 4,
  "vscode": {
   "interpreter": {
    "hash": "eda7e54fe21129b67f77862937907ee926f057597a3e2fa1e18ac955e40912b3"
   }
  }
 },
 "nbformat": 4,
 "nbformat_minor": 2
}
