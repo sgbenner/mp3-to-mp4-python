{
 "cells": [
  {
   "cell_type": "code",
   "execution_count": 38,
   "metadata": {},
   "outputs": [],
   "source": [
    "# Modules\n",
    "from moviepy.editor import AudioFileClip, ImageClip, VideoClip\n",
    "import pandas as pd\n",
    "import numpy as np\n",
    "import os\n",
    "import glob"
   ]
  },
  {
   "cell_type": "code",
   "execution_count": 39,
   "metadata": {},
   "outputs": [
    {
     "data": {
      "text/html": [
       "<div>\n",
       "<style scoped>\n",
       "    .dataframe tbody tr th:only-of-type {\n",
       "        vertical-align: middle;\n",
       "    }\n",
       "\n",
       "    .dataframe tbody tr th {\n",
       "        vertical-align: top;\n",
       "    }\n",
       "\n",
       "    .dataframe thead th {\n",
       "        text-align: right;\n",
       "    }\n",
       "</style>\n",
       "<table border=\"1\" class=\"dataframe\">\n",
       "  <thead>\n",
       "    <tr style=\"text-align: right;\">\n",
       "      <th></th>\n",
       "      <th>path</th>\n",
       "      <th>name</th>\n",
       "    </tr>\n",
       "  </thead>\n",
       "  <tbody>\n",
       "    <tr>\n",
       "      <th>0</th>\n",
       "      <td>Brad Benner Originals - Album 01/01 Get Out Of...</td>\n",
       "      <td>Get Out Of My Car</td>\n",
       "    </tr>\n",
       "    <tr>\n",
       "      <th>1</th>\n",
       "      <td>Brad Benner Originals - Album 01/02 No Goodbye...</td>\n",
       "      <td>No Goodbyes</td>\n",
       "    </tr>\n",
       "    <tr>\n",
       "      <th>2</th>\n",
       "      <td>Brad Benner Originals - Album 01/03 Until I Di...</td>\n",
       "      <td>Until I Die</td>\n",
       "    </tr>\n",
       "    <tr>\n",
       "      <th>3</th>\n",
       "      <td>Brad Benner Originals - Album 01/04 My Love Is...</td>\n",
       "      <td>My Love Is Patient</td>\n",
       "    </tr>\n",
       "    <tr>\n",
       "      <th>4</th>\n",
       "      <td>Brad Benner Originals - Album 01/05 I'll Take ...</td>\n",
       "      <td>I'll Take You Home</td>\n",
       "    </tr>\n",
       "    <tr>\n",
       "      <th>...</th>\n",
       "      <td>...</td>\n",
       "      <td>...</td>\n",
       "    </tr>\n",
       "    <tr>\n",
       "      <th>277</th>\n",
       "      <td>Brad Benner Originals - Album 20/18 Anymore.mp3</td>\n",
       "      <td>Anymore</td>\n",
       "    </tr>\n",
       "    <tr>\n",
       "      <th>278</th>\n",
       "      <td>Brad Benner Originals - Album 20/19 If You Wer...</td>\n",
       "      <td>If You Were Me</td>\n",
       "    </tr>\n",
       "    <tr>\n",
       "      <th>279</th>\n",
       "      <td>Brad Benner Originals - Album 20/20 She'll Be ...</td>\n",
       "      <td>She'll Be Waitin For Me</td>\n",
       "    </tr>\n",
       "    <tr>\n",
       "      <th>280</th>\n",
       "      <td>Brad Benner Originals - Album 20/21 That Guita...</td>\n",
       "      <td>That Guitar It Should Of Been Mine</td>\n",
       "    </tr>\n",
       "    <tr>\n",
       "      <th>281</th>\n",
       "      <td>Brad Benner Originals - Album 20/22 Memories O...</td>\n",
       "      <td>Memories Of That Hell</td>\n",
       "    </tr>\n",
       "  </tbody>\n",
       "</table>\n",
       "<p>282 rows × 2 columns</p>\n",
       "</div>"
      ],
      "text/plain": [
       "                                                  path  \\\n",
       "0    Brad Benner Originals - Album 01/01 Get Out Of...   \n",
       "1    Brad Benner Originals - Album 01/02 No Goodbye...   \n",
       "2    Brad Benner Originals - Album 01/03 Until I Di...   \n",
       "3    Brad Benner Originals - Album 01/04 My Love Is...   \n",
       "4    Brad Benner Originals - Album 01/05 I'll Take ...   \n",
       "..                                                 ...   \n",
       "277    Brad Benner Originals - Album 20/18 Anymore.mp3   \n",
       "278  Brad Benner Originals - Album 20/19 If You Wer...   \n",
       "279  Brad Benner Originals - Album 20/20 She'll Be ...   \n",
       "280  Brad Benner Originals - Album 20/21 That Guita...   \n",
       "281  Brad Benner Originals - Album 20/22 Memories O...   \n",
       "\n",
       "                                   name  \n",
       "0                     Get Out Of My Car  \n",
       "1                           No Goodbyes  \n",
       "2                           Until I Die  \n",
       "3                    My Love Is Patient  \n",
       "4                    I'll Take You Home  \n",
       "..                                  ...  \n",
       "277                             Anymore  \n",
       "278                      If You Were Me  \n",
       "279             She'll Be Waitin For Me  \n",
       "280  That Guitar It Should Of Been Mine  \n",
       "281               Memories Of That Hell  \n",
       "\n",
       "[282 rows x 2 columns]"
      ]
     },
     "execution_count": 39,
     "metadata": {},
     "output_type": "execute_result"
    }
   ],
   "source": [
    "# Get Songs into Dataframe\n",
    "songs_df = pd.read_csv('all_songs.csv')\n",
    "\n",
    "songs_df"
   ]
  },
  {
   "cell_type": "code",
   "execution_count": 40,
   "metadata": {},
   "outputs": [],
   "source": [
    "# Find the movies already created and ignore below\n",
    "already_created = [file.replace(\".mp4\",\"\") for file in os.listdir('./videos/')]\n",
    "\n",
    "songs_df[\"already_created\"] = np.where(songs_df[\"name\"].isin(already_created), True, False)"
   ]
  },
  {
   "cell_type": "code",
   "execution_count": 41,
   "metadata": {},
   "outputs": [],
   "source": [
    "# Function to create the video\n",
    "def create_video(image_path, audio_path, video_path):\n",
    "    image_clip = ImageClip(image_path)\n",
    "    audio_clip = AudioFileClip(audio_path)\n",
    "\n",
    "    video_clip = image_clip.set_audio(audio_clip)\n",
    "    video_clip.duration = audio_clip.duration\n",
    "    video_clip.fps = 30\n",
    "    video_clip.write_videofile(video_path)"
   ]
  },
  {
   "cell_type": "code",
   "execution_count": 42,
   "metadata": {},
   "outputs": [
    {
     "name": "stdout",
     "output_type": "stream",
     "text": [
      "Already created...Get Out Of My Car\n",
      "Already created...No Goodbyes\n",
      "Already created...Until I Die\n",
      "Already created...My Love Is Patient\n",
      "Already created...I'll Take You Home\n",
      "Already created...Montana Gibson\n",
      "Already created...Jesus Has My Back\n",
      "Already created...Long Long While \"She's So Sweet\"\n",
      "Already created...Ain't No Hope\n",
      "Already created...35 Years\n",
      "Already created...Hitch In Her Giddy Up\n",
      "Already created...Indiana Lane\n",
      "Already created...It's The Lake\n",
      "Already created...Life Is Good\n",
      "Already created...Rock Of Ages \"Scotch On The Rocks\"\n",
      "Already created...I Can't Do Another Day\n",
      "Already created...Jesus Partied With Sinners\n",
      "Already created...My Little Girl - \"Megan's Song\"\n",
      "Already created...Getting My Guitars\n",
      "Already created...Track 02\n",
      "Already created...Track 03\n",
      "Already created...Miss You Dad\n",
      "Already created...Won't Reconcile - \"Abortion\"\n",
      "Already created...Never Doubt Your Love\n",
      "Already created...Our Favorite Beach\n",
      "Already created...Delle Jean\n",
      "Already created...One Season Lover\n",
      "Already created...Everybody Knows Who I Am\n",
      "Already created...Track 11\n",
      "Already created...Wa Cry Wa\n",
      "Already created...Track 02\n",
      "Already created...Track 03\n",
      "Already created...Can't Read Her Mind\n",
      "Already created...Crazy's Easy\n",
      "Already created...Cheryl\n",
      "Already created...3 Minute Song\n",
      "Already created...Wiener Dog\n",
      "Already created...Redneck Girl\n",
      "Already created...Mister Man\n",
      "Already created...Rail Way Man\n",
      "Already created...Won't Give Into Them\n",
      "Already created...Swing Swing Swing\n",
      "Already created...Let Me Take You There\n",
      "Already created...Wendall Tyler\n",
      "Already created...Mighty Fine View\n",
      "Already created...Carolina Lover\n",
      "Already created...Stronger Than Hell\n",
      "Already created...Because He Cared\n",
      "Already created...Wrangler Jeans\n",
      "Already created...Keep On Walkin Little Girl\n",
      "Already created...Without Me - \"Don't Like This Bed\"\n",
      "Already created...Don't Call Her Home\n",
      "Already created...Shooting Star\n",
      "Already created...Honey Dew\n",
      "Already created...Wasted Tears\n",
      "Already created...Ain't My Destiny\n",
      "Already created...Winter Sucks\n",
      "Already created...Loretta Loves Me So Let It Be\n",
      "Already created...Self Centered SOB's\n",
      "Already created...Lay Her Down To Rest By Daddy\n",
      "Already created...Without You\n",
      "Already created...Bluebird\n",
      "Already created...Love You Up\n",
      "Already created...Untitled\n",
      "Already created...Bradley James\n",
      "Already created...Let It Go\n",
      "Already created...Minnie Mouse Rear\n",
      "Already created...Losin What I Got\n",
      "Already created...Rest Of My Life\n",
      "Already created...Love Thats Divine\n",
      "Already created...Caribbean Bound\n",
      "Already created...I Smoked The Number\n",
      "Already created...Don't Call Her Home\n",
      "Already created...Riding My Scooter To Town\n",
      "Already created...Turning Me Away\n",
      "Already created...Party All Night\n",
      "Already created...I Ain't Hot But He's A Jerk\n",
      "Already created...Be Into Me\n",
      "Already created...God And Me\n",
      "Already created...Lightening Thunder and Rain\n",
      "Already created...His Amazing Grace\n",
      "Already created...Across The Rio Grande\n",
      "Already created...Untitled\n",
      "Already created...The Past\n",
      "Already created...The Promise Land\n",
      "Already created...For You And Me - \"Died On That Cross\"\n",
      "Already created...I Like My Women\n",
      "Already created...Monday Neath The Covers\n",
      "Already created...Long Way Around\n",
      "Already created...Turning Me Away\n",
      "Already created...Just Playin Guitar\n",
      "Already created...What The Heck\n",
      "Already created...I'm In Love With You\n",
      "Already created...Mess Up\n",
      "Already created...Someone Loves You - \"Bullying\"\n",
      "Already created...Across The Rio Grande 2\n",
      "Already created...Lucky Man\n",
      "Already created...Epideral Girl\n",
      "Already created...Optimistic Break Up Song\n",
      "Already created...Nashville Flight\n",
      "Already created...Time\n",
      "Already created...I'm In Love With You\n",
      "Already created...Missin Saul\n",
      "Already created...100 Songs\n",
      "Already created...She Did Her Job\n",
      "Already created...It Is What It Is\n",
      "Already created...Colorado\n",
      "Already created...DeJavo\n",
      "Already created...Friend of a Friend - \"Facebook Sucks\"\n",
      "Already created...Daddys Toys - \"Bradley's Song\"\n",
      "Already created...Help Me Through\n",
      "Already created...Caf_in_o\n",
      "Already created...County Fair\n",
      "Already created...Dirty Little Sinner\n",
      "Already created...Tampa Bay\n",
      "Already created...My Guitar Love Sing\n",
      "Already created...A Promise Kept\n",
      "Already created...King And Queen\n",
      "Already created...Better Than Gettin Dead\n",
      "Already created...Come on Home\n",
      "Already created...Don't Need a Superman\n",
      "Already created...Song In My Brain\n",
      "Already created...They Never Last\n",
      "Already created...Make It Rain\n",
      "Already created...Revolving Mounds Abound\n",
      "Already created...Just When I Think I've Seen It All\n",
      "Already created...Orphaned Child\n",
      "Already created...Had To Leave\n",
      "Already created...Almost Finished School\n",
      "Already created...Again\n",
      "Already created...Them Summer Winds\n",
      "Already created...Danced Until The Sun\n",
      "Already created...Don't Need a Superman\n",
      "Already created...Walk Away From You\n",
      "Already created...My Circle Of Life\n",
      "Already created...Union Street\n",
      "Already created...What I Wanna Do\n",
      "Already created...The Darkest Hour\n",
      "Already created...Its Christmas Eve Again\n",
      "Already created...My Memories\n",
      "Already created...Suicidal Addiction\n",
      "Already created...French Fries\n",
      "Already created...Turn Around Jessie\n",
      "Already created...I Ain't Dumb Just A Little Slow\n",
      "Already created...Oh That Jesus\n",
      "Already created...I'm Comin Home\n",
      "Already created...Mammas Cross\n",
      "Already created...You're Nuts Girl\n",
      "Already created...You're Little Tats\n",
      "Already created...Turn Out The Lights\n",
      "Already created...Hard To Say Goodbye\n",
      "Already created...Like I Did Yesterday\n",
      "Already created...Judgement Blind\n",
      "Already created...Kissing Me Kissing Mine\n",
      "Already created...Blow Wind Blow\n",
      "Already created...That Pack Is Killin Me\n",
      "Already created...Re-Enter My Life\n",
      "Already created...Whiskey In The Punch\n",
      "Already created...Can't Stop The Way I Think\n",
      "Already created...Lookin Out My Window\n",
      "Already created...Little Book He Took\n",
      "Already created...It Was Easy\n",
      "Already created...This Dance To Last\n",
      "Already created...Shriner Lake Marine Koozie\n",
      "Already created...Cardboard Sign\n",
      "Already created...In The Shadows\n",
      "Already created...Caught Up In My Moods\n",
      "Already created...I Need A Lover\n",
      "Already created...Misinterpretation\n",
      "Already created...Spend The Night\n",
      "Already created...Promise We Would\n",
      "Already created...Wish\n",
      "Already created...Don't Give Up On Us\n",
      "Already created...I Don't Wanna Go\n",
      "Already created...Her Minnesota Farm\n",
      "Already created...Baby Take The Lead\n",
      "Already created...Beyond My Control\n",
      "Already created...Louisville Slugger\n",
      "Already created...Memories Here To Stay\n",
      "Already created...Watch Your Back - \"Google\"\n",
      "Already created...4th of July\n",
      "Already created...Moment In Time\n",
      "Already created...Wimmin\n",
      "Already created...Stalk My Neighbor APP\n",
      "Already created...Yep She Be Doin It Again\n",
      "Already created...What Am I Supposed To Do\n",
      "Already created...I Just Can't Get Over You\n",
      "Already created...Happy Meals\n",
      "Already created...Come On Over\n",
      "Already created...Lovin By The Sea\n",
      "Already created...Why's It So Hard\n",
      "Already created...The Pusher Man\n",
      "Already created...Supplemental Income\n",
      "Already created...No Tell Motel\n",
      "Already created...Slow It Down\n",
      "Already created...I Can See The Light\n",
      "Already created...Kiss Me Baby\n",
      "Already created...Your Daddy's Country Home\n",
      "Already created...What More Did You Need\n",
      "Already created...I Be Gettin\n",
      "Already created...Don't You Drive By Me Again\n",
      "Already created...Another Dream\n",
      "Already created...She's Worth The Hell\n",
      "Already created...Just A Little Sin\n",
      "Already created...I'm Not Too Strong\n",
      "Already created...Can I Be\n",
      "Already created...Nothin Left For Me To Hide\n",
      "Already created...Baby Let It Go\n",
      "Already created...Maggie Brown\n",
      "Already created...Frickin Mouse\n",
      "Already created...Team Work\n",
      "Already created...Just Tell The Truth\n",
      "Already created...Miserable\n",
      "Already created...Westin Idaho\n",
      "Already created...Face of an Angel\n",
      "Already created...You Got Me Here\n",
      "Already created...10 Percent\n",
      "Already created...She Lied To Me\n",
      "Already created...I Thank The Lord\n",
      "Already created...Thy Will Be Done\n",
      "Already created...PontoonsOnly.com\n",
      "Already created...Don't Tell The Wife\n",
      "Already created...Just One More Time\n",
      "Already created...Was The First Time\n",
      "Already created...The Mirror Never Lies\n",
      "Already created...A Livin Hell\n",
      "Already created...Bout Went To Far\n",
      "Already created...Its History\n",
      "Already created...Damn You All In Washington D.C.\n",
      "Already created...That Train Didn't Stop\n",
      "Already created...Back Off Bitch\n",
      "Already created...Mexican Sand\n",
      "Already created...Dammit I Tried\n",
      "Already created...Its OK To Walk Away\n",
      "Already created...The Weekends Up N Gone\n",
      "Already created...Ya Better Be Lonely\n",
      "Already created...You Got The What I Need\n",
      "Already created...Cottage On Red Bud Hill\n",
      "Already created...Dance The Waltz Again\n",
      "Already created...Squirella Like My Dad\n",
      "Already created...Don't Need Pity\n",
      "Already created...No Voices of Shame\n",
      "Already created...Where Did Everybody Go\n",
      "Already created...She Told Me A Lie\n",
      "video_path: ./videos/You Ain't Worth A Nickle Of My Time.mp4\n",
      "Moviepy - Building video ./videos/You Ain't Worth A Nickle Of My Time.mp4.\n",
      "MoviePy - Writing audio in You Ain't Worth A Nickle Of My TimeTEMP_MPY_wvf_snd.mp3\n"
     ]
    },
    {
     "name": "stderr",
     "output_type": "stream",
     "text": [
      "                                                                      \r"
     ]
    },
    {
     "name": "stdout",
     "output_type": "stream",
     "text": [
      "MoviePy - Done.\n",
      "Moviepy - Writing video ./videos/You Ain't Worth A Nickle Of My Time.mp4\n",
      "\n"
     ]
    },
    {
     "name": "stderr",
     "output_type": "stream",
     "text": [
      "                                                                 \r"
     ]
    },
    {
     "name": "stdout",
     "output_type": "stream",
     "text": [
      "Moviepy - Done !\n",
      "Moviepy - video ready ./videos/You Ain't Worth A Nickle Of My Time.mp4\n",
      "video_path: ./videos/What Is Love Without A Lover.mp4\n",
      "Moviepy - Building video ./videos/What Is Love Without A Lover.mp4.\n",
      "MoviePy - Writing audio in What Is Love Without A LoverTEMP_MPY_wvf_snd.mp3\n"
     ]
    },
    {
     "name": "stderr",
     "output_type": "stream",
     "text": [
      "                                                                      \r"
     ]
    },
    {
     "name": "stdout",
     "output_type": "stream",
     "text": [
      "MoviePy - Done.\n",
      "Moviepy - Writing video ./videos/What Is Love Without A Lover.mp4\n",
      "\n"
     ]
    },
    {
     "name": "stderr",
     "output_type": "stream",
     "text": [
      "                                                                 \r"
     ]
    },
    {
     "name": "stdout",
     "output_type": "stream",
     "text": [
      "Moviepy - Done !\n",
      "Moviepy - video ready ./videos/What Is Love Without A Lover.mp4\n",
      "video_path: ./videos/Left Unsaid.mp4\n",
      "Moviepy - Building video ./videos/Left Unsaid.mp4.\n",
      "MoviePy - Writing audio in Left UnsaidTEMP_MPY_wvf_snd.mp3\n"
     ]
    },
    {
     "name": "stderr",
     "output_type": "stream",
     "text": [
      "                                                                      \r"
     ]
    },
    {
     "name": "stdout",
     "output_type": "stream",
     "text": [
      "MoviePy - Done.\n",
      "Moviepy - Writing video ./videos/Left Unsaid.mp4\n",
      "\n"
     ]
    },
    {
     "name": "stderr",
     "output_type": "stream",
     "text": [
      "                                                                 \r"
     ]
    },
    {
     "name": "stdout",
     "output_type": "stream",
     "text": [
      "Moviepy - Done !\n",
      "Moviepy - video ready ./videos/Left Unsaid.mp4\n",
      "video_path: ./videos/Bakelite Jesus.mp4\n",
      "Moviepy - Building video ./videos/Bakelite Jesus.mp4.\n",
      "MoviePy - Writing audio in Bakelite JesusTEMP_MPY_wvf_snd.mp3\n"
     ]
    },
    {
     "name": "stderr",
     "output_type": "stream",
     "text": [
      "                                                                      \r"
     ]
    },
    {
     "name": "stdout",
     "output_type": "stream",
     "text": [
      "MoviePy - Done.\n",
      "Moviepy - Writing video ./videos/Bakelite Jesus.mp4\n",
      "\n"
     ]
    },
    {
     "name": "stderr",
     "output_type": "stream",
     "text": [
      "                                                                 \r"
     ]
    },
    {
     "name": "stdout",
     "output_type": "stream",
     "text": [
      "Moviepy - Done !\n",
      "Moviepy - video ready ./videos/Bakelite Jesus.mp4\n",
      "video_path: ./videos/I Promised You.mp4\n",
      "Moviepy - Building video ./videos/I Promised You.mp4.\n",
      "MoviePy - Writing audio in I Promised YouTEMP_MPY_wvf_snd.mp3\n"
     ]
    },
    {
     "name": "stderr",
     "output_type": "stream",
     "text": [
      "                                                                      \r"
     ]
    },
    {
     "name": "stdout",
     "output_type": "stream",
     "text": [
      "MoviePy - Done.\n",
      "Moviepy - Writing video ./videos/I Promised You.mp4\n",
      "\n"
     ]
    },
    {
     "name": "stderr",
     "output_type": "stream",
     "text": [
      "                                                                 \r"
     ]
    },
    {
     "name": "stdout",
     "output_type": "stream",
     "text": [
      "Moviepy - Done !\n",
      "Moviepy - video ready ./videos/I Promised You.mp4\n",
      "video_path: ./videos/Don't You Cry When We Say Goodbye.mp4\n",
      "Moviepy - Building video ./videos/Don't You Cry When We Say Goodbye.mp4.\n",
      "MoviePy - Writing audio in Don't You Cry When We Say GoodbyeTEMP_MPY_wvf_snd.mp3\n"
     ]
    },
    {
     "name": "stderr",
     "output_type": "stream",
     "text": [
      "                                                                      \r"
     ]
    },
    {
     "name": "stdout",
     "output_type": "stream",
     "text": [
      "MoviePy - Done.\n",
      "Moviepy - Writing video ./videos/Don't You Cry When We Say Goodbye.mp4\n",
      "\n"
     ]
    },
    {
     "name": "stderr",
     "output_type": "stream",
     "text": [
      "                                                                 \r"
     ]
    },
    {
     "name": "stdout",
     "output_type": "stream",
     "text": [
      "Moviepy - Done !\n",
      "Moviepy - video ready ./videos/Don't You Cry When We Say Goodbye.mp4\n",
      "video_path: ./videos/She Be Never Lookin Back.mp4\n",
      "Moviepy - Building video ./videos/She Be Never Lookin Back.mp4.\n",
      "MoviePy - Writing audio in She Be Never Lookin BackTEMP_MPY_wvf_snd.mp3\n"
     ]
    },
    {
     "name": "stderr",
     "output_type": "stream",
     "text": [
      "                                                                      \r"
     ]
    },
    {
     "name": "stdout",
     "output_type": "stream",
     "text": [
      "MoviePy - Done.\n",
      "Moviepy - Writing video ./videos/She Be Never Lookin Back.mp4\n",
      "\n"
     ]
    },
    {
     "name": "stderr",
     "output_type": "stream",
     "text": [
      "                                                                 \r"
     ]
    },
    {
     "name": "stdout",
     "output_type": "stream",
     "text": [
      "Moviepy - Done !\n",
      "Moviepy - video ready ./videos/She Be Never Lookin Back.mp4\n",
      "video_path: ./videos/Sometimes Life Can Be A Bitch.mp4\n",
      "Moviepy - Building video ./videos/Sometimes Life Can Be A Bitch.mp4.\n",
      "MoviePy - Writing audio in Sometimes Life Can Be A BitchTEMP_MPY_wvf_snd.mp3\n"
     ]
    },
    {
     "name": "stderr",
     "output_type": "stream",
     "text": [
      "                                                                      \r"
     ]
    },
    {
     "name": "stdout",
     "output_type": "stream",
     "text": [
      "MoviePy - Done.\n",
      "Moviepy - Writing video ./videos/Sometimes Life Can Be A Bitch.mp4\n",
      "\n"
     ]
    },
    {
     "name": "stderr",
     "output_type": "stream",
     "text": [
      "                                                                 \r"
     ]
    },
    {
     "name": "stdout",
     "output_type": "stream",
     "text": [
      "Moviepy - Done !\n",
      "Moviepy - video ready ./videos/Sometimes Life Can Be A Bitch.mp4\n",
      "video_path: ./videos/She Can Never Love Again.mp4\n",
      "Moviepy - Building video ./videos/She Can Never Love Again.mp4.\n",
      "MoviePy - Writing audio in She Can Never Love AgainTEMP_MPY_wvf_snd.mp3\n"
     ]
    },
    {
     "name": "stderr",
     "output_type": "stream",
     "text": [
      "                                                                      \r"
     ]
    },
    {
     "name": "stdout",
     "output_type": "stream",
     "text": [
      "MoviePy - Done.\n",
      "Moviepy - Writing video ./videos/She Can Never Love Again.mp4\n",
      "\n"
     ]
    },
    {
     "name": "stderr",
     "output_type": "stream",
     "text": [
      "                                                                 \r"
     ]
    },
    {
     "name": "stdout",
     "output_type": "stream",
     "text": [
      "Moviepy - Done !\n",
      "Moviepy - video ready ./videos/She Can Never Love Again.mp4\n",
      "video_path: ./videos/Till I Fall Asleep.mp4\n",
      "Moviepy - Building video ./videos/Till I Fall Asleep.mp4.\n",
      "MoviePy - Writing audio in Till I Fall AsleepTEMP_MPY_wvf_snd.mp3\n"
     ]
    },
    {
     "name": "stderr",
     "output_type": "stream",
     "text": [
      "                                                                      \r"
     ]
    },
    {
     "name": "stdout",
     "output_type": "stream",
     "text": [
      "MoviePy - Done.\n",
      "Moviepy - Writing video ./videos/Till I Fall Asleep.mp4\n",
      "\n"
     ]
    },
    {
     "name": "stderr",
     "output_type": "stream",
     "text": [
      "                                                                 \r"
     ]
    },
    {
     "name": "stdout",
     "output_type": "stream",
     "text": [
      "Moviepy - Done !\n",
      "Moviepy - video ready ./videos/Till I Fall Asleep.mp4\n",
      "video_path: ./videos/Frickin Quarentine.mp4\n",
      "Moviepy - Building video ./videos/Frickin Quarentine.mp4.\n",
      "MoviePy - Writing audio in Frickin QuarentineTEMP_MPY_wvf_snd.mp3\n"
     ]
    },
    {
     "name": "stderr",
     "output_type": "stream",
     "text": [
      "                                                                      \r"
     ]
    },
    {
     "name": "stdout",
     "output_type": "stream",
     "text": [
      "MoviePy - Done.\n",
      "Moviepy - Writing video ./videos/Frickin Quarentine.mp4\n",
      "\n"
     ]
    },
    {
     "name": "stderr",
     "output_type": "stream",
     "text": [
      "                                                                 \r"
     ]
    },
    {
     "name": "stdout",
     "output_type": "stream",
     "text": [
      "Moviepy - Done !\n",
      "Moviepy - video ready ./videos/Frickin Quarentine.mp4\n",
      "video_path: ./videos/Hello Sunshine.mp4\n",
      "Moviepy - Building video ./videos/Hello Sunshine.mp4.\n",
      "MoviePy - Writing audio in Hello SunshineTEMP_MPY_wvf_snd.mp3\n"
     ]
    },
    {
     "name": "stderr",
     "output_type": "stream",
     "text": [
      "                                                                      \r"
     ]
    },
    {
     "name": "stdout",
     "output_type": "stream",
     "text": [
      "MoviePy - Done.\n",
      "Moviepy - Writing video ./videos/Hello Sunshine.mp4\n",
      "\n"
     ]
    },
    {
     "name": "stderr",
     "output_type": "stream",
     "text": [
      "                                                                 \r"
     ]
    },
    {
     "name": "stdout",
     "output_type": "stream",
     "text": [
      "Moviepy - Done !\n",
      "Moviepy - video ready ./videos/Hello Sunshine.mp4\n",
      "video_path: ./videos/I Found My Happiness.mp4\n",
      "Moviepy - Building video ./videos/I Found My Happiness.mp4.\n",
      "MoviePy - Writing audio in I Found My HappinessTEMP_MPY_wvf_snd.mp3\n"
     ]
    },
    {
     "name": "stderr",
     "output_type": "stream",
     "text": [
      "                                                                      \r"
     ]
    },
    {
     "name": "stdout",
     "output_type": "stream",
     "text": [
      "MoviePy - Done.\n",
      "Moviepy - Writing video ./videos/I Found My Happiness.mp4\n",
      "\n"
     ]
    },
    {
     "name": "stderr",
     "output_type": "stream",
     "text": [
      "                                                                 \r"
     ]
    },
    {
     "name": "stdout",
     "output_type": "stream",
     "text": [
      "Moviepy - Done !\n",
      "Moviepy - video ready ./videos/I Found My Happiness.mp4\n",
      "video_path: ./videos/Baby Its Time To Go.mp4\n",
      "Moviepy - Building video ./videos/Baby Its Time To Go.mp4.\n",
      "MoviePy - Writing audio in Baby Its Time To GoTEMP_MPY_wvf_snd.mp3\n"
     ]
    },
    {
     "name": "stderr",
     "output_type": "stream",
     "text": [
      "                                                                      \r"
     ]
    },
    {
     "name": "stdout",
     "output_type": "stream",
     "text": [
      "MoviePy - Done.\n",
      "Moviepy - Writing video ./videos/Baby Its Time To Go.mp4\n",
      "\n"
     ]
    },
    {
     "name": "stderr",
     "output_type": "stream",
     "text": [
      "                                                                 \r"
     ]
    },
    {
     "name": "stdout",
     "output_type": "stream",
     "text": [
      "Moviepy - Done !\n",
      "Moviepy - video ready ./videos/Baby Its Time To Go.mp4\n",
      "video_path: ./videos/Hello Jesus I'm In Trouble.mp4\n",
      "Moviepy - Building video ./videos/Hello Jesus I'm In Trouble.mp4.\n",
      "MoviePy - Writing audio in Hello Jesus I'm In TroubleTEMP_MPY_wvf_snd.mp3\n"
     ]
    },
    {
     "name": "stderr",
     "output_type": "stream",
     "text": [
      "                                                                      \r"
     ]
    },
    {
     "name": "stdout",
     "output_type": "stream",
     "text": [
      "MoviePy - Done.\n",
      "Moviepy - Writing video ./videos/Hello Jesus I'm In Trouble.mp4\n",
      "\n"
     ]
    },
    {
     "name": "stderr",
     "output_type": "stream",
     "text": [
      "                                                                 \r"
     ]
    },
    {
     "name": "stdout",
     "output_type": "stream",
     "text": [
      "Moviepy - Done !\n",
      "Moviepy - video ready ./videos/Hello Jesus I'm In Trouble.mp4\n",
      "video_path: ./videos/I've Been Blessed.mp4\n",
      "Moviepy - Building video ./videos/I've Been Blessed.mp4.\n",
      "MoviePy - Writing audio in I've Been BlessedTEMP_MPY_wvf_snd.mp3\n"
     ]
    },
    {
     "name": "stderr",
     "output_type": "stream",
     "text": [
      "                                                                      \r"
     ]
    },
    {
     "name": "stdout",
     "output_type": "stream",
     "text": [
      "MoviePy - Done.\n",
      "Moviepy - Writing video ./videos/I've Been Blessed.mp4\n",
      "\n"
     ]
    },
    {
     "name": "stderr",
     "output_type": "stream",
     "text": [
      "                                                                 \r"
     ]
    },
    {
     "name": "stdout",
     "output_type": "stream",
     "text": [
      "Moviepy - Done !\n",
      "Moviepy - video ready ./videos/I've Been Blessed.mp4\n",
      "video_path: ./videos/Losin Time.mp4\n",
      "Moviepy - Building video ./videos/Losin Time.mp4.\n",
      "MoviePy - Writing audio in Losin TimeTEMP_MPY_wvf_snd.mp3\n"
     ]
    },
    {
     "name": "stderr",
     "output_type": "stream",
     "text": [
      "                                                                      \r"
     ]
    },
    {
     "name": "stdout",
     "output_type": "stream",
     "text": [
      "MoviePy - Done.\n",
      "Moviepy - Writing video ./videos/Losin Time.mp4\n",
      "\n"
     ]
    },
    {
     "name": "stderr",
     "output_type": "stream",
     "text": [
      "                                                                 \r"
     ]
    },
    {
     "name": "stdout",
     "output_type": "stream",
     "text": [
      "Moviepy - Done !\n",
      "Moviepy - video ready ./videos/Losin Time.mp4\n",
      "video_path: ./videos/Satisfied Desires.mp4\n",
      "Moviepy - Building video ./videos/Satisfied Desires.mp4.\n",
      "MoviePy - Writing audio in Satisfied DesiresTEMP_MPY_wvf_snd.mp3\n"
     ]
    },
    {
     "name": "stderr",
     "output_type": "stream",
     "text": [
      "                                                                      \r"
     ]
    },
    {
     "name": "stdout",
     "output_type": "stream",
     "text": [
      "MoviePy - Done.\n",
      "Moviepy - Writing video ./videos/Satisfied Desires.mp4\n",
      "\n"
     ]
    },
    {
     "name": "stderr",
     "output_type": "stream",
     "text": [
      "                                                                 \r"
     ]
    },
    {
     "name": "stdout",
     "output_type": "stream",
     "text": [
      "Moviepy - Done !\n",
      "Moviepy - video ready ./videos/Satisfied Desires.mp4\n",
      "video_path: ./videos/Yep That's OK.mp4\n",
      "Moviepy - Building video ./videos/Yep That's OK.mp4.\n",
      "MoviePy - Writing audio in Yep That's OKTEMP_MPY_wvf_snd.mp3\n"
     ]
    },
    {
     "name": "stderr",
     "output_type": "stream",
     "text": [
      "                                                                      \r"
     ]
    },
    {
     "name": "stdout",
     "output_type": "stream",
     "text": [
      "MoviePy - Done.\n",
      "Moviepy - Writing video ./videos/Yep That's OK.mp4\n",
      "\n"
     ]
    },
    {
     "name": "stderr",
     "output_type": "stream",
     "text": [
      "                                                                 \r"
     ]
    },
    {
     "name": "stdout",
     "output_type": "stream",
     "text": [
      "Moviepy - Done !\n",
      "Moviepy - video ready ./videos/Yep That's OK.mp4\n",
      "video_path: ./videos/Missin Me.mp4\n",
      "Moviepy - Building video ./videos/Missin Me.mp4.\n",
      "MoviePy - Writing audio in Missin MeTEMP_MPY_wvf_snd.mp3\n"
     ]
    },
    {
     "name": "stderr",
     "output_type": "stream",
     "text": [
      "                                                                      \r"
     ]
    },
    {
     "name": "stdout",
     "output_type": "stream",
     "text": [
      "MoviePy - Done.\n",
      "Moviepy - Writing video ./videos/Missin Me.mp4\n",
      "\n"
     ]
    },
    {
     "name": "stderr",
     "output_type": "stream",
     "text": [
      "                                                                 \r"
     ]
    },
    {
     "name": "stdout",
     "output_type": "stream",
     "text": [
      "Moviepy - Done !\n",
      "Moviepy - video ready ./videos/Missin Me.mp4\n",
      "video_path: ./videos/Pardon Me.mp4\n",
      "Moviepy - Building video ./videos/Pardon Me.mp4.\n",
      "MoviePy - Writing audio in Pardon MeTEMP_MPY_wvf_snd.mp3\n"
     ]
    },
    {
     "name": "stderr",
     "output_type": "stream",
     "text": [
      "                                                                      \r"
     ]
    },
    {
     "name": "stdout",
     "output_type": "stream",
     "text": [
      "MoviePy - Done.\n",
      "Moviepy - Writing video ./videos/Pardon Me.mp4\n",
      "\n"
     ]
    },
    {
     "name": "stderr",
     "output_type": "stream",
     "text": [
      "                                                                 \r"
     ]
    },
    {
     "name": "stdout",
     "output_type": "stream",
     "text": [
      "Moviepy - Done !\n",
      "Moviepy - video ready ./videos/Pardon Me.mp4\n",
      "video_path: ./videos/Anything Goes.mp4\n",
      "Moviepy - Building video ./videos/Anything Goes.mp4.\n",
      "MoviePy - Writing audio in Anything GoesTEMP_MPY_wvf_snd.mp3\n"
     ]
    },
    {
     "name": "stderr",
     "output_type": "stream",
     "text": [
      "                                                                      \r"
     ]
    },
    {
     "name": "stdout",
     "output_type": "stream",
     "text": [
      "MoviePy - Done.\n",
      "Moviepy - Writing video ./videos/Anything Goes.mp4\n",
      "\n"
     ]
    },
    {
     "name": "stderr",
     "output_type": "stream",
     "text": [
      "                                                                 \r"
     ]
    },
    {
     "name": "stdout",
     "output_type": "stream",
     "text": [
      "Moviepy - Done !\n",
      "Moviepy - video ready ./videos/Anything Goes.mp4\n",
      "video_path: ./videos/That Boxcar Door.mp4\n",
      "Moviepy - Building video ./videos/That Boxcar Door.mp4.\n",
      "MoviePy - Writing audio in That Boxcar DoorTEMP_MPY_wvf_snd.mp3\n"
     ]
    },
    {
     "name": "stderr",
     "output_type": "stream",
     "text": [
      "                                                                      \r"
     ]
    },
    {
     "name": "stdout",
     "output_type": "stream",
     "text": [
      "MoviePy - Done.\n",
      "Moviepy - Writing video ./videos/That Boxcar Door.mp4\n",
      "\n"
     ]
    },
    {
     "name": "stderr",
     "output_type": "stream",
     "text": [
      "                                                                 \r"
     ]
    },
    {
     "name": "stdout",
     "output_type": "stream",
     "text": [
      "Moviepy - Done !\n",
      "Moviepy - video ready ./videos/That Boxcar Door.mp4\n",
      "video_path: ./videos/A Sinner Just Like Me.mp4\n",
      "Moviepy - Building video ./videos/A Sinner Just Like Me.mp4.\n",
      "MoviePy - Writing audio in A Sinner Just Like MeTEMP_MPY_wvf_snd.mp3\n"
     ]
    },
    {
     "name": "stderr",
     "output_type": "stream",
     "text": [
      "                                                                      \r"
     ]
    },
    {
     "name": "stdout",
     "output_type": "stream",
     "text": [
      "MoviePy - Done.\n",
      "Moviepy - Writing video ./videos/A Sinner Just Like Me.mp4\n",
      "\n"
     ]
    },
    {
     "name": "stderr",
     "output_type": "stream",
     "text": [
      "                                                                 \r"
     ]
    },
    {
     "name": "stdout",
     "output_type": "stream",
     "text": [
      "Moviepy - Done !\n",
      "Moviepy - video ready ./videos/A Sinner Just Like Me.mp4\n",
      "video_path: ./videos/I Can Never Be Just Your Friend.mp4\n",
      "Moviepy - Building video ./videos/I Can Never Be Just Your Friend.mp4.\n",
      "MoviePy - Writing audio in I Can Never Be Just Your FriendTEMP_MPY_wvf_snd.mp3\n"
     ]
    },
    {
     "name": "stderr",
     "output_type": "stream",
     "text": [
      "                                                                      \r"
     ]
    },
    {
     "name": "stdout",
     "output_type": "stream",
     "text": [
      "MoviePy - Done.\n",
      "Moviepy - Writing video ./videos/I Can Never Be Just Your Friend.mp4\n",
      "\n"
     ]
    },
    {
     "name": "stderr",
     "output_type": "stream",
     "text": [
      "                                                                 \r"
     ]
    },
    {
     "name": "stdout",
     "output_type": "stream",
     "text": [
      "Moviepy - Done !\n",
      "Moviepy - video ready ./videos/I Can Never Be Just Your Friend.mp4\n",
      "video_path: ./videos/I Need To Wish For You.mp4\n",
      "Moviepy - Building video ./videos/I Need To Wish For You.mp4.\n",
      "MoviePy - Writing audio in I Need To Wish For YouTEMP_MPY_wvf_snd.mp3\n"
     ]
    },
    {
     "name": "stderr",
     "output_type": "stream",
     "text": [
      "                                                                      \r"
     ]
    },
    {
     "name": "stdout",
     "output_type": "stream",
     "text": [
      "MoviePy - Done.\n",
      "Moviepy - Writing video ./videos/I Need To Wish For You.mp4\n",
      "\n"
     ]
    },
    {
     "name": "stderr",
     "output_type": "stream",
     "text": [
      "                                                                 \r"
     ]
    },
    {
     "name": "stdout",
     "output_type": "stream",
     "text": [
      "Moviepy - Done !\n",
      "Moviepy - video ready ./videos/I Need To Wish For You.mp4\n",
      "video_path: ./videos/Rain Down From His Face.mp4\n",
      "Moviepy - Building video ./videos/Rain Down From His Face.mp4.\n",
      "MoviePy - Writing audio in Rain Down From His FaceTEMP_MPY_wvf_snd.mp3\n"
     ]
    },
    {
     "name": "stderr",
     "output_type": "stream",
     "text": [
      "                                                                      \r"
     ]
    },
    {
     "name": "stdout",
     "output_type": "stream",
     "text": [
      "MoviePy - Done.\n",
      "Moviepy - Writing video ./videos/Rain Down From His Face.mp4\n",
      "\n"
     ]
    },
    {
     "name": "stderr",
     "output_type": "stream",
     "text": [
      "                                                                 \r"
     ]
    },
    {
     "name": "stdout",
     "output_type": "stream",
     "text": [
      "Moviepy - Done !\n",
      "Moviepy - video ready ./videos/Rain Down From His Face.mp4\n",
      "video_path: ./videos/You Don't Think I Don't Know.mp4\n",
      "Moviepy - Building video ./videos/You Don't Think I Don't Know.mp4.\n",
      "MoviePy - Writing audio in You Don't Think I Don't KnowTEMP_MPY_wvf_snd.mp3\n"
     ]
    },
    {
     "name": "stderr",
     "output_type": "stream",
     "text": [
      "                                                                      \r"
     ]
    },
    {
     "name": "stdout",
     "output_type": "stream",
     "text": [
      "MoviePy - Done.\n",
      "Moviepy - Writing video ./videos/You Don't Think I Don't Know.mp4\n",
      "\n"
     ]
    },
    {
     "name": "stderr",
     "output_type": "stream",
     "text": [
      "                                                                 \r"
     ]
    },
    {
     "name": "stdout",
     "output_type": "stream",
     "text": [
      "Moviepy - Done !\n",
      "Moviepy - video ready ./videos/You Don't Think I Don't Know.mp4\n",
      "video_path: ./videos/Not Playin A Game.mp4\n",
      "Moviepy - Building video ./videos/Not Playin A Game.mp4.\n",
      "MoviePy - Writing audio in Not Playin A GameTEMP_MPY_wvf_snd.mp3\n"
     ]
    },
    {
     "name": "stderr",
     "output_type": "stream",
     "text": [
      "                                                                      \r"
     ]
    },
    {
     "name": "stdout",
     "output_type": "stream",
     "text": [
      "MoviePy - Done.\n",
      "Moviepy - Writing video ./videos/Not Playin A Game.mp4\n",
      "\n"
     ]
    },
    {
     "name": "stderr",
     "output_type": "stream",
     "text": [
      "                                                                 \r"
     ]
    },
    {
     "name": "stdout",
     "output_type": "stream",
     "text": [
      "Moviepy - Done !\n",
      "Moviepy - video ready ./videos/Not Playin A Game.mp4\n",
      "video_path: ./videos/Prozac Girl.mp4\n",
      "Moviepy - Building video ./videos/Prozac Girl.mp4.\n",
      "MoviePy - Writing audio in Prozac GirlTEMP_MPY_wvf_snd.mp3\n"
     ]
    },
    {
     "name": "stderr",
     "output_type": "stream",
     "text": [
      "                                                                      \r"
     ]
    },
    {
     "name": "stdout",
     "output_type": "stream",
     "text": [
      "MoviePy - Done.\n",
      "Moviepy - Writing video ./videos/Prozac Girl.mp4\n",
      "\n"
     ]
    },
    {
     "name": "stderr",
     "output_type": "stream",
     "text": [
      "                                                                 \r"
     ]
    },
    {
     "name": "stdout",
     "output_type": "stream",
     "text": [
      "Moviepy - Done !\n",
      "Moviepy - video ready ./videos/Prozac Girl.mp4\n",
      "video_path: ./videos/Go To Fast.mp4\n",
      "Moviepy - Building video ./videos/Go To Fast.mp4.\n",
      "MoviePy - Writing audio in Go To FastTEMP_MPY_wvf_snd.mp3\n"
     ]
    },
    {
     "name": "stderr",
     "output_type": "stream",
     "text": [
      "                                                                      \r"
     ]
    },
    {
     "name": "stdout",
     "output_type": "stream",
     "text": [
      "MoviePy - Done.\n",
      "Moviepy - Writing video ./videos/Go To Fast.mp4\n",
      "\n"
     ]
    },
    {
     "name": "stderr",
     "output_type": "stream",
     "text": [
      "                                                                 \r"
     ]
    },
    {
     "name": "stdout",
     "output_type": "stream",
     "text": [
      "Moviepy - Done !\n",
      "Moviepy - video ready ./videos/Go To Fast.mp4\n",
      "video_path: ./videos/All American Star Spangled Butt.mp4\n",
      "Moviepy - Building video ./videos/All American Star Spangled Butt.mp4.\n",
      "MoviePy - Writing audio in All American Star Spangled ButtTEMP_MPY_wvf_snd.mp3\n"
     ]
    },
    {
     "name": "stderr",
     "output_type": "stream",
     "text": [
      "                                                                      \r"
     ]
    },
    {
     "name": "stdout",
     "output_type": "stream",
     "text": [
      "MoviePy - Done.\n",
      "Moviepy - Writing video ./videos/All American Star Spangled Butt.mp4\n",
      "\n"
     ]
    },
    {
     "name": "stderr",
     "output_type": "stream",
     "text": [
      "                                                                 \r"
     ]
    },
    {
     "name": "stdout",
     "output_type": "stream",
     "text": [
      "Moviepy - Done !\n",
      "Moviepy - video ready ./videos/All American Star Spangled Butt.mp4\n",
      "video_path: ./videos/Christmas At Home.mp4\n",
      "Moviepy - Building video ./videos/Christmas At Home.mp4.\n",
      "MoviePy - Writing audio in Christmas At HomeTEMP_MPY_wvf_snd.mp3\n"
     ]
    },
    {
     "name": "stderr",
     "output_type": "stream",
     "text": [
      "                                                                      \r"
     ]
    },
    {
     "name": "stdout",
     "output_type": "stream",
     "text": [
      "MoviePy - Done.\n",
      "Moviepy - Writing video ./videos/Christmas At Home.mp4\n",
      "\n"
     ]
    },
    {
     "name": "stderr",
     "output_type": "stream",
     "text": [
      "                                                                 \r"
     ]
    },
    {
     "name": "stdout",
     "output_type": "stream",
     "text": [
      "Moviepy - Done !\n",
      "Moviepy - video ready ./videos/Christmas At Home.mp4\n",
      "video_path: ./videos/Anymore.mp4\n",
      "Moviepy - Building video ./videos/Anymore.mp4.\n",
      "MoviePy - Writing audio in AnymoreTEMP_MPY_wvf_snd.mp3\n"
     ]
    },
    {
     "name": "stderr",
     "output_type": "stream",
     "text": [
      "                                                                      \r"
     ]
    },
    {
     "name": "stdout",
     "output_type": "stream",
     "text": [
      "MoviePy - Done.\n",
      "Moviepy - Writing video ./videos/Anymore.mp4\n",
      "\n"
     ]
    },
    {
     "name": "stderr",
     "output_type": "stream",
     "text": [
      "                                                                 \r"
     ]
    },
    {
     "name": "stdout",
     "output_type": "stream",
     "text": [
      "Moviepy - Done !\n",
      "Moviepy - video ready ./videos/Anymore.mp4\n",
      "video_path: ./videos/If You Were Me.mp4\n",
      "Moviepy - Building video ./videos/If You Were Me.mp4.\n",
      "MoviePy - Writing audio in If You Were MeTEMP_MPY_wvf_snd.mp3\n"
     ]
    },
    {
     "name": "stderr",
     "output_type": "stream",
     "text": [
      "                                                                      \r"
     ]
    },
    {
     "name": "stdout",
     "output_type": "stream",
     "text": [
      "MoviePy - Done.\n",
      "Moviepy - Writing video ./videos/If You Were Me.mp4\n",
      "\n"
     ]
    },
    {
     "name": "stderr",
     "output_type": "stream",
     "text": [
      "                                                                 \r"
     ]
    },
    {
     "name": "stdout",
     "output_type": "stream",
     "text": [
      "Moviepy - Done !\n",
      "Moviepy - video ready ./videos/If You Were Me.mp4\n",
      "video_path: ./videos/She'll Be Waitin For Me.mp4\n",
      "Moviepy - Building video ./videos/She'll Be Waitin For Me.mp4.\n",
      "MoviePy - Writing audio in She'll Be Waitin For MeTEMP_MPY_wvf_snd.mp3\n"
     ]
    },
    {
     "name": "stderr",
     "output_type": "stream",
     "text": [
      "                                                                      \r"
     ]
    },
    {
     "name": "stdout",
     "output_type": "stream",
     "text": [
      "MoviePy - Done.\n",
      "Moviepy - Writing video ./videos/She'll Be Waitin For Me.mp4\n",
      "\n"
     ]
    },
    {
     "name": "stderr",
     "output_type": "stream",
     "text": [
      "                                                                 \r"
     ]
    },
    {
     "name": "stdout",
     "output_type": "stream",
     "text": [
      "Moviepy - Done !\n",
      "Moviepy - video ready ./videos/She'll Be Waitin For Me.mp4\n",
      "video_path: ./videos/That Guitar It Should Of Been Mine.mp4\n",
      "Moviepy - Building video ./videos/That Guitar It Should Of Been Mine.mp4.\n",
      "MoviePy - Writing audio in That Guitar It Should Of Been MineTEMP_MPY_wvf_snd.mp3\n"
     ]
    },
    {
     "name": "stderr",
     "output_type": "stream",
     "text": [
      "                                                                      \r"
     ]
    },
    {
     "name": "stdout",
     "output_type": "stream",
     "text": [
      "MoviePy - Done.\n",
      "Moviepy - Writing video ./videos/That Guitar It Should Of Been Mine.mp4\n",
      "\n"
     ]
    },
    {
     "name": "stderr",
     "output_type": "stream",
     "text": [
      "                                                                 \r"
     ]
    },
    {
     "name": "stdout",
     "output_type": "stream",
     "text": [
      "Moviepy - Done !\n",
      "Moviepy - video ready ./videos/That Guitar It Should Of Been Mine.mp4\n",
      "video_path: ./videos/Memories Of That Hell.mp4\n",
      "Moviepy - Building video ./videos/Memories Of That Hell.mp4.\n",
      "MoviePy - Writing audio in Memories Of That HellTEMP_MPY_wvf_snd.mp3\n"
     ]
    },
    {
     "name": "stderr",
     "output_type": "stream",
     "text": [
      "                                                                      \r"
     ]
    },
    {
     "name": "stdout",
     "output_type": "stream",
     "text": [
      "MoviePy - Done.\n",
      "Moviepy - Writing video ./videos/Memories Of That Hell.mp4\n",
      "\n"
     ]
    },
    {
     "name": "stderr",
     "output_type": "stream",
     "text": [
      "                                                                 \r"
     ]
    },
    {
     "name": "stdout",
     "output_type": "stream",
     "text": [
      "Moviepy - Done !\n",
      "Moviepy - video ready ./videos/Memories Of That Hell.mp4\n"
     ]
    }
   ],
   "source": [
    "# Loop through each song and combine the image + song into a video\n",
    "songs_base_path = '/Users/stevenbenner/Google Drive/My Drive/Media/Dad Songs/_Original Recordings/'\n",
    "\n",
    "for ind in songs_df.index:\n",
    "    already_created = songs_df['already_created'][ind]\n",
    "    song_name = songs_df['name'][ind]\n",
    "    song_path = songs_df['path'][ind]\n",
    "\n",
    "    if already_created == False:\n",
    "\n",
    "        image_path = os.path.join('./images/', song_name + '.png')\n",
    "        audio_path = os.path.join(songs_base_path, song_path)\n",
    "        video_path = './videos/' + song_name + '.mp4'\n",
    "\n",
    "        print (f\"video_path: {video_path}\")\n",
    "\n",
    "        create_video (image_path, audio_path, video_path)\n",
    "\n",
    "    else:\n",
    "        print(f\"Already created...{song_name}\")\n"
   ]
  },
  {
   "cell_type": "code",
   "execution_count": null,
   "metadata": {},
   "outputs": [],
   "source": []
  }
 ],
 "metadata": {
  "kernelspec": {
   "display_name": "Python 3",
   "language": "python",
   "name": "python3"
  },
  "language_info": {
   "codemirror_mode": {
    "name": "ipython",
    "version": 3
   },
   "file_extension": ".py",
   "mimetype": "text/x-python",
   "name": "python",
   "nbconvert_exporter": "python",
   "pygments_lexer": "ipython3",
   "version": "3.10.9"
  },
  "orig_nbformat": 4,
  "vscode": {
   "interpreter": {
    "hash": "eda7e54fe21129b67f77862937907ee926f057597a3e2fa1e18ac955e40912b3"
   }
  }
 },
 "nbformat": 4,
 "nbformat_minor": 2
}
