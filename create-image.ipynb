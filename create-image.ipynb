{
 "cells": [
  {
   "cell_type": "code",
   "execution_count": 18,
   "metadata": {},
   "outputs": [],
   "source": [
    "# Modules\n",
    "from PIL import Image, ImageDraw, ImageFont\n",
    "import pandas as pd\n",
    "import os\n",
    "import glob\n",
    "import warnings\n",
    "warnings.filterwarnings(\"ignore\")\n"
   ]
  },
  {
   "cell_type": "code",
   "execution_count": 10,
   "metadata": {},
   "outputs": [
    {
     "data": {
      "text/html": [
       "<div>\n",
       "<style scoped>\n",
       "    .dataframe tbody tr th:only-of-type {\n",
       "        vertical-align: middle;\n",
       "    }\n",
       "\n",
       "    .dataframe tbody tr th {\n",
       "        vertical-align: top;\n",
       "    }\n",
       "\n",
       "    .dataframe thead th {\n",
       "        text-align: right;\n",
       "    }\n",
       "</style>\n",
       "<table border=\"1\" class=\"dataframe\">\n",
       "  <thead>\n",
       "    <tr style=\"text-align: right;\">\n",
       "      <th></th>\n",
       "      <th>path</th>\n",
       "      <th>name</th>\n",
       "    </tr>\n",
       "  </thead>\n",
       "  <tbody>\n",
       "    <tr>\n",
       "      <th>0</th>\n",
       "      <td>Brad Benner Originals - Album 01/01 Get Out Of...</td>\n",
       "      <td>Get Out Of My Car</td>\n",
       "    </tr>\n",
       "    <tr>\n",
       "      <th>1</th>\n",
       "      <td>Brad Benner Originals - Album 01/02 No Goodbye...</td>\n",
       "      <td>No Goodbyes</td>\n",
       "    </tr>\n",
       "    <tr>\n",
       "      <th>2</th>\n",
       "      <td>Brad Benner Originals - Album 01/03 Until I Di...</td>\n",
       "      <td>Until I Die</td>\n",
       "    </tr>\n",
       "    <tr>\n",
       "      <th>3</th>\n",
       "      <td>Brad Benner Originals - Album 01/04 My Love Is...</td>\n",
       "      <td>My Love Is Patient</td>\n",
       "    </tr>\n",
       "    <tr>\n",
       "      <th>4</th>\n",
       "      <td>Brad Benner Originals - Album 01/05 I'll Take ...</td>\n",
       "      <td>I'll Take You Home</td>\n",
       "    </tr>\n",
       "    <tr>\n",
       "      <th>...</th>\n",
       "      <td>...</td>\n",
       "      <td>...</td>\n",
       "    </tr>\n",
       "    <tr>\n",
       "      <th>277</th>\n",
       "      <td>Brad Benner Originals - Album 20/18 Anymore.mp3</td>\n",
       "      <td>Anymore</td>\n",
       "    </tr>\n",
       "    <tr>\n",
       "      <th>278</th>\n",
       "      <td>Brad Benner Originals - Album 20/19 If You Wer...</td>\n",
       "      <td>If You Were Me</td>\n",
       "    </tr>\n",
       "    <tr>\n",
       "      <th>279</th>\n",
       "      <td>Brad Benner Originals - Album 20/20 She'll Be ...</td>\n",
       "      <td>She'll Be Waitin For Me</td>\n",
       "    </tr>\n",
       "    <tr>\n",
       "      <th>280</th>\n",
       "      <td>Brad Benner Originals - Album 20/21 That Guita...</td>\n",
       "      <td>That Guitar It Should Of Been Mine</td>\n",
       "    </tr>\n",
       "    <tr>\n",
       "      <th>281</th>\n",
       "      <td>Brad Benner Originals - Album 20/22 Memories O...</td>\n",
       "      <td>Memories Of That Hell</td>\n",
       "    </tr>\n",
       "  </tbody>\n",
       "</table>\n",
       "<p>282 rows × 2 columns</p>\n",
       "</div>"
      ],
      "text/plain": [
       "                                                  path  \\\n",
       "0    Brad Benner Originals - Album 01/01 Get Out Of...   \n",
       "1    Brad Benner Originals - Album 01/02 No Goodbye...   \n",
       "2    Brad Benner Originals - Album 01/03 Until I Di...   \n",
       "3    Brad Benner Originals - Album 01/04 My Love Is...   \n",
       "4    Brad Benner Originals - Album 01/05 I'll Take ...   \n",
       "..                                                 ...   \n",
       "277    Brad Benner Originals - Album 20/18 Anymore.mp3   \n",
       "278  Brad Benner Originals - Album 20/19 If You Wer...   \n",
       "279  Brad Benner Originals - Album 20/20 She'll Be ...   \n",
       "280  Brad Benner Originals - Album 20/21 That Guita...   \n",
       "281  Brad Benner Originals - Album 20/22 Memories O...   \n",
       "\n",
       "                                   name  \n",
       "0                     Get Out Of My Car  \n",
       "1                           No Goodbyes  \n",
       "2                           Until I Die  \n",
       "3                    My Love Is Patient  \n",
       "4                    I'll Take You Home  \n",
       "..                                  ...  \n",
       "277                             Anymore  \n",
       "278                      If You Were Me  \n",
       "279             She'll Be Waitin For Me  \n",
       "280  That Guitar It Should Of Been Mine  \n",
       "281               Memories Of That Hell  \n",
       "\n",
       "[282 rows x 2 columns]"
      ]
     },
     "execution_count": 10,
     "metadata": {},
     "output_type": "execute_result"
    }
   ],
   "source": [
    "# Get Songs into Dataframe\n",
    "songs_df = pd.read_csv('all_songs.csv')\n",
    "\n",
    "songs_df"
   ]
  },
  {
   "cell_type": "code",
   "execution_count": 52,
   "metadata": {},
   "outputs": [],
   "source": [
    "def create_image (image_path, image_name, size, background_color, bbb_originals, song_name, song_font, song_font_size, song_name_color):\n",
    "    W, H = size\n",
    "\n",
    "    img = Image.new('RGB', size, color = background_color)\n",
    "    \n",
    "    fnt_song = ImageFont.truetype(song_font, song_font_size)\n",
    "    fnt2_bborig = ImageFont.truetype(song_font, 50)\n",
    "    d = ImageDraw.Draw(img)\n",
    "    w, h = d.textsize(song_name, fnt_song)\n",
    "    w2, h2 = d.textsize(bbb_originals, fnt2_bborig)\n",
    "    d.text(((W-w)/2,(H-h)/2), song_name, font=fnt_song, fill=song_name_color)\n",
    "    d.text(((W-w2)/2,((H-h2)/2) + 200), bbb_originals, font=fnt2_bborig, fill=song_name_color)\n",
    "\n",
    "    img.save(os.path.join(image_path, image_name))"
   ]
  },
  {
   "cell_type": "code",
   "execution_count": 53,
   "metadata": {},
   "outputs": [],
   "source": [
    "\n",
    "image_path = './images/'\n",
    "size = (1920, 1080)\n",
    "background_color = (0, 0, 0)\n",
    "bbb_originals = 'Brad Benner Originals'\n",
    "song_font = '/Library/Fonts/Trebuchet MS Bold.ttf'\n",
    "song_font_size = 100\n",
    "song_name_color = (245, 245, 245) # white\n",
    "\n",
    "# clean up directory\n",
    "files = glob.glob(image_path + '*')\n",
    "for f in files:\n",
    "    os.remove(f)\n"
   ]
  },
  {
   "cell_type": "code",
   "execution_count": 54,
   "metadata": {},
   "outputs": [],
   "source": [
    "# Create images\n",
    "for ind in songs_df.index:\n",
    "    song_name = songs_df['name'][ind]\n",
    "    image_name = song_name + '.png'\n",
    "\n",
    "    create_image (image_path, image_name, size, background_color, bbb_originals, song_name, song_font, song_font_size, song_name_color)"
   ]
  },
  {
   "cell_type": "code",
   "execution_count": null,
   "metadata": {},
   "outputs": [],
   "source": []
  }
 ],
 "metadata": {
  "kernelspec": {
   "display_name": "Python 3",
   "language": "python",
   "name": "python3"
  },
  "language_info": {
   "codemirror_mode": {
    "name": "ipython",
    "version": 3
   },
   "file_extension": ".py",
   "mimetype": "text/x-python",
   "name": "python",
   "nbconvert_exporter": "python",
   "pygments_lexer": "ipython3",
   "version": "3.10.9"
  },
  "orig_nbformat": 4,
  "vscode": {
   "interpreter": {
    "hash": "eda7e54fe21129b67f77862937907ee926f057597a3e2fa1e18ac955e40912b3"
   }
  }
 },
 "nbformat": 4,
 "nbformat_minor": 2
}
